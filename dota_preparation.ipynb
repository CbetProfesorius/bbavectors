{
 "cells": [
  {
   "cell_type": "code",
   "execution_count": 2,
   "metadata": {},
   "outputs": [
    {
     "name": "stdout",
     "output_type": "stream",
     "text": [
      "Created /mnt/c/src/BBAVectors-Oriented-Object-Detection/data_dir/trainval.txt with 469 entries.\n"
     ]
    }
   ],
   "source": [
    "import os\n",
    "\n",
    "def create_image_list_txt(image_dir, output_txt_path):\n",
    "    \"\"\"\n",
    "    Creates a text file containing a list of image filenames from a directory.\n",
    "\n",
    "    Args:\n",
    "        image_dir (str): The path to the directory containing the images.\n",
    "        output_txt_path (str): The path to the output text file.\n",
    "    \"\"\"\n",
    "\n",
    "    image_filenames = []\n",
    "    for filename in os.listdir(image_dir):\n",
    "        if filename.lower().endswith(('.png', '.jpg', '.jpeg', '.bmp', '.gif', '.tiff', '.webp')):  # Add any other image extensions you need\n",
    "            image_filenames.append(os.path.splitext(filename)[0]) #append the name without extension\n",
    "\n",
    "    with open(output_txt_path, 'w') as f:\n",
    "        for filename in image_filenames:\n",
    "            f.write(filename + '\\n')\n",
    "\n",
    "    print(f\"Created {output_txt_path} with {len(image_filenames)} entries.\")\n",
    "\n",
    "# Example usage:\n",
    "image_directory = '/mnt/c/src/BBAVectors-Oriented-Object-Detection/data_dir/images'  # Replace with your image directory\n",
    "output_file = '/mnt/c/src/BBAVectors-Oriented-Object-Detection/data_dir/trainval.txt'  # Replace with your desired output file path\n",
    "\n",
    "create_image_list_txt(image_directory, output_file)\n"
   ]
  },
  {
   "cell_type": "code",
   "execution_count": null,
   "metadata": {},
   "outputs": [],
   "source": []
  }
 ],
 "metadata": {
  "kernelspec": {
   "display_name": "bba",
   "language": "python",
   "name": "python3"
  },
  "language_info": {
   "codemirror_mode": {
    "name": "ipython",
    "version": 3
   },
   "file_extension": ".py",
   "mimetype": "text/x-python",
   "name": "python",
   "nbconvert_exporter": "python",
   "pygments_lexer": "ipython3",
   "version": "3.8.20"
  }
 },
 "nbformat": 4,
 "nbformat_minor": 2
}
